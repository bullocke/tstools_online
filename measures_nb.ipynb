{
 "cells": [
  {
   "cell_type": "markdown",
   "metadata": {},
   "source": [
    "## Notebook for training data collection for measures"
   ]
  },
  {
   "cell_type": "code",
   "execution_count": 1,
   "metadata": {},
   "outputs": [],
   "source": [
    "import tstools.measures as mclass\n",
    "import ipywidgets\n",
    "from ipywidgets import HBox, VBox, Box, HTML\n",
    "import ee"
   ]
  },
  {
   "cell_type": "code",
   "execution_count": 2,
   "metadata": {},
   "outputs": [
    {
     "data": {
      "application/vnd.jupyter.widget-view+json": {
       "model_id": "8a9fce267f1648098e522256cb9ae8d8",
       "version_major": 2,
       "version_minor": 0
      },
      "text/plain": [
       "HTML(value='<style>.container { width:100% !important; }</style>')"
      ]
     },
     "metadata": {},
     "output_type": "display_data"
    }
   ],
   "source": [
    "# Allow Jupyter display to be 100% the width of the browser\n",
    "display(ipywidgets.HTML('<style>.container { width:100% !important; }</style>'))"
   ]
  },
  {
   "cell_type": "code",
   "execution_count": 3,
   "metadata": {},
   "outputs": [],
   "source": [
    "# Authenticate to the Earth Engine servers, and initialize the ee module.\n",
    "ee.Initialize()"
   ]
  },
  {
   "cell_type": "code",
   "execution_count": 4,
   "metadata": {},
   "outputs": [],
   "source": [
    "# Get a measures object\n",
    "mnb = mclass.measures()"
   ]
  },
  {
   "cell_type": "code",
   "execution_count": 5,
   "metadata": {},
   "outputs": [],
   "source": [
    "# Organize all the pieces\n",
    "\n",
    "# Right box\n",
    "\n",
    "# Load data and spreadsheet (tab 1)\n",
    "load_data = HBox(children=[mnb.load_button, mnb.valid_load])\n",
    "tab1 = VBox(children=[mnb.spreadsheet, mnb.spreadName, mnb.sampleWidget,\n",
    "                      load_data])\n",
    "\n",
    "# Land cover information (tab 2)\n",
    "dropBox1= VBox(children=[mnb.years,\n",
    "                         mnb.drop0,\n",
    "                         mnb.drop1,\n",
    "                         mnb.drop2,\n",
    "                         mnb.drop3,\n",
    "                         mnb.drop4])\n",
    "\n",
    "dropBox2= VBox(children=[mnb.drop5,\n",
    "                         mnb.drop6,\n",
    "                         mnb.drop7,\n",
    "                         mnb.drop8,\n",
    "                         mnb.veg_selector])\n",
    "dropBoxBoth = HBox(children=[dropBox1, dropBox2])\n",
    "tab2_label = HTML(value=\"<b>Segment Land Cover Information:</b>\")\n",
    "confidence_label = HTML(value=\"<b>Confidence in segment land cover attributes:</b>\")\n",
    "tab2_bottom = HBox(children=[VBox([confidence_label,mnb.confidence]),mnb.notes,])\n",
    "tab2 = VBox(children=[tab2_label, dropBoxBoth, tab2_bottom])\n",
    "\n",
    "\n",
    "# Segment trend HERE\n",
    "st_conf_label = HTML(value=\"<b>Confidence in Change Agent:</b>\")\n",
    "st_drop_label = HTML(value=\"<b>Segment Type:</b>\")\n",
    "st_lc_label = HTML(value=\"<b>Land Cover Change Direction:</b>\")\n",
    "st_notes_label = HTML(value=\"<b>Notes:</b>\")\n",
    "\n",
    "st_label = ipywidgets.Label('Segment Time Trend')\n",
    "st_col1 = VBox(children=[st_drop_label,\n",
    "                         mnb.drop9, \n",
    "                         st_lc_label,\n",
    "                         mnb.direction \n",
    "                         ])\n",
    "\n",
    "conf_notes = HBox(children=[VBox([st_conf_label, mnb.ca_confidence]), VBox([st_notes_label, mnb.notes_seg_trend])]) # Need new notes\n",
    "st_selector_label = HTML(value=\"<b>Change Agent:</b>\")\n",
    "\n",
    "st_col2 = VBox(children=[st_selector_label, mnb.change_selector, mnb.change_other])\n",
    "# st_row2 = mnb.notes # TODO: New notes widget\n",
    "st_row3 = HBox(children=[mnb.valid, mnb.save_button])\n",
    "\n",
    "tab3_row1 = HBox(children=[st_col1, st_col2])\n",
    "tab3 = VBox(children=[tab3_row1, conf_notes, st_row3])\n",
    "\n",
    "\n",
    "# Tab 4 - Break \n",
    "b_conf_label = HTML(value=\"<b>Confidence in Break Attributes:</b>\")\n",
    "b_label = HTML(value=\"<b>Break Information</b>\")\n",
    "navigate_label2 = HTML(value=\"<b>Click Map:</b>\")\n",
    "b_col1 = VBox(children=[b_label, mnb.break_check, mnb.break_year, mnb.break_years, st_lc_label, mnb.b_direction, HBox([mnb.b_valid, mnb.b_save_button])])\n",
    "\n",
    "b_col2 = VBox(children=[st_selector_label, mnb.b_change_selector, mnb.b_change_other,b_conf_label, mnb.b_ca_confidence, st_notes_label, mnb.notes_break]) \n",
    "\n",
    "tab4 = HBox(children=[b_col1, b_col2 ])\n",
    "\n",
    "\n",
    "# Table of previous interpretation info for ID (tab 5)\n",
    "# tab5 = VBox(children=[mnb.table_widget, mnb.delete_rows])\n",
    "tab5 = VBox(children=[mnb.table_widget])\n",
    "\n",
    "# Controls to navigate samples and pyccd (tab 6 - now 2)\n",
    "navigate_label1 = HTML(value=\"<b>Sample:</b>\")\n",
    "navigate_label2 = HTML(value=\"<b>Click Map:</b>\")\n",
    "\n",
    "\n",
    "navigate_samples = VBox(children=[navigate_label1, mnb.previous_pt, mnb.next_pt, mnb.pt_message, mnb.kml_link])\n",
    "sample_pyccd = VBox([navigate_label1, mnb.pyccd_button, mnb.toggle_pyccd_button]) \n",
    "click_pyccd = VBox([navigate_label2, mnb.pyccd_button2, mnb.toggle_pyccd_button2])\n",
    "\n",
    "sample_ts_box = VBox([navigate_samples, sample_pyccd, click_pyccd])\n",
    "clicked_ts_box = VBox([mnb.pyccd_button2, mnb.idBox])\n",
    "_tab6 = HBox([navigate_samples, sample_pyccd, click_pyccd])\n",
    "\n",
    "zoom = HBox([mnb.zoom_box])\n",
    "tab6 = VBox([_tab6, mnb.coord_message, zoom, mnb.return_button, HBox([HTML('Go to:'), mnb.idBox])])\n",
    "\n",
    "\n",
    "# Stretch and time series display (tab 7)\n",
    "im_st = HTML(value=\"<b>Image Stretch:</b>\")\n",
    "\n",
    "stretch_tab = VBox([im_st, mnb.image_band_1, mnb.image_band_2, \n",
    "                    mnb.image_band_3, mnb.stretch_min,\n",
    "                    mnb.stretch_max, mnb.color_check,\n",
    "                    mnb.clear_layers])\n",
    "display_tab = VBox([HTML(value=\"<b>SAMPLE TS</b>\"), mnb.band_selector1, mnb.ylim, mnb.xlim, HTML(value=\"<b>CLICKED TS</b>\"), \n",
    "                     mnb.band_selector2, mnb.ylim2, mnb.xlim2])\n",
    "\n",
    "tab7 = HBox([stretch_tab, display_tab])\n",
    "\n",
    "# Tabulate the different boxes\n",
    "interp_tab = ipywidgets.Tab(children=[tab1, tab6, tab2, tab3, tab4, tab5, tab7], \n",
    "                            layout=ipywidgets.Layout(width='50%', min_height='400px', max_height='400px'))\n",
    "\n",
    "interp_tab.set_title(0, 'Load')\n",
    "interp_tab.set_title(1, 'Controls')\n",
    "\n",
    "interp_tab.set_title(2, 'Land Cover')\n",
    "interp_tab.set_title(3, 'Segment Change')\n",
    "\n",
    "# TODO: Break info\n",
    "interp_tab.set_title(4, 'Break')\n",
    "interp_tab.set_title(5, 'Table')\n",
    "interp_tab.set_title(6, 'Display')\n",
    "\n",
    "# Time series plots\n",
    "fig = ipywidgets.Tab(children=[mnb.fig, mnb.fig3, mnb.fig2])\n",
    "fig.set_title(0, 'Sample TS')\n",
    "fig.set_title(1, 'Sample DOY')\n",
    "fig.set_title(2, 'Clicked TS')\n",
    "\n",
    "# Put the boxes together\n",
    "controls = HBox([mnb.m, interp_tab])\n",
    "\n",
    "# Put the boxes with the time series\n",
    "tabfig = VBox([controls, fig])"
   ]
  },
  {
   "cell_type": "code",
   "execution_count": 6,
   "metadata": {
    "scrolled": false
   },
   "outputs": [
    {
     "data": {
      "application/vnd.jupyter.widget-view+json": {
       "model_id": "58acee3270bc43aa85d93ec680963d91",
       "version_major": 2,
       "version_minor": 0
      },
      "text/plain": [
       "VBox(children=(HBox(children=(Map(basemap={'url': 'http://server.arcgisonline.com/ArcGIS/rest/services/World_S…"
      ]
     },
     "metadata": {},
     "output_type": "display_data"
    }
   ],
   "source": [
    "display(tabfig)\n"
   ]
  },
  {
   "cell_type": "code",
   "execution_count": null,
   "metadata": {},
   "outputs": [],
   "source": []
  }
 ],
 "metadata": {
  "kernelspec": {
   "display_name": "Python 3",
   "language": "python",
   "name": "python3"
  },
  "language_info": {
   "codemirror_mode": {
    "name": "ipython",
    "version": 3
   },
   "file_extension": ".py",
   "mimetype": "text/x-python",
   "name": "python",
   "nbconvert_exporter": "python",
   "pygments_lexer": "ipython3",
   "version": "3.6.5"
  }
 },
 "nbformat": 4,
 "nbformat_minor": 2
}
